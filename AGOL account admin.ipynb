{
 "cells": [
  {
   "cell_type": "code",
   "execution_count": null,
   "id": "95e5cb74",
   "metadata": {},
   "outputs": [],
   "source": [
    "from arcgis.gis import GIS\n",
    "import pandas as pd"
   ]
  },
  {
   "cell_type": "code",
   "execution_count": null,
   "id": "8d26679f",
   "metadata": {},
   "outputs": [],
   "source": [
    "gis = GIS('<ORGANIZATION>', '<USERNAME>','<PASSWORD>')"
   ]
  },
  {
   "cell_type": "code",
   "execution_count": null,
   "id": "04abb1d8",
   "metadata": {},
   "outputs": [],
   "source": [
    "#for deleting multiple users from a list in a csv file\n",
    "my_file = '<FILE PATH>'\n",
    "my_csv = pd.read_csv(my_file)\n",
    "username = my_csv['username'] #assumes that the column of usernames is called 'username'. adjust as necessary"
   ]
  },
  {
   "cell_type": "markdown",
   "id": "fd4d6b44",
   "metadata": {},
   "source": [
    "### TRANSFER GROUP OWNERSHIP"
   ]
  },
  {
   "cell_type": "code",
   "execution_count": null,
   "id": "4e38ae0f",
   "metadata": {},
   "outputs": [],
   "source": [
    "validation_variable = False\n",
    "\n",
    "for u in username:\n",
    "    #print(u)\n",
    "    gisusers = gis.users.search(u)\n",
    "    for p in range(len(gisusers)): \n",
    "        if gisusers[p].username == u: \n",
    "            validation_variable = True \n",
    "            user = gisusers[p]\n",
    "            groups = user.groups \n",
    "\n",
    "            for x in range(len(groups)):\n",
    "                try: \n",
    "                    owner = groups[x].owner \n",
    "                    if owner == u:\n",
    "                        groups[x].reassign_to('<NEW ACCOUNT>') \n",
    "\n",
    "                except:\n",
    "                    print('ERROR with ' + user.username)\n",
    "                    continue\n",
    "                    \n",
    "    if validation_variable == False:\n",
    "        print(\"Search did not successfully locate \" + u + \". Please manually remove from groups.\")"
   ]
  },
  {
   "cell_type": "markdown",
   "id": "95839d04",
   "metadata": {},
   "source": [
    "### TRANSFER ITEMS"
   ]
  },
  {
   "cell_type": "code",
   "execution_count": null,
   "id": "19b51569",
   "metadata": {},
   "outputs": [],
   "source": [
    "#transfers items one by one to keep folder structure of the user\n",
    "\n",
    "validation_variable = False\n",
    "\n",
    "for u in username:\n",
    "    #print('current user: ' + u)\n",
    "    gisusers = gis.users.search(u)\n",
    "    for p in range(len(gisusers)):\n",
    "        if gisusers[p].username == u: #check that search returned the right person\n",
    "            validation_variable = True #if this doesn't trigger, an error message will tell us that user wasn't found\n",
    "            user = gisusers[p]\n",
    "\n",
    "            folders_info = user.folders\n",
    "            folders = []\n",
    "            all_items = user.items() #all items (in and out of folders) that a user owns\n",
    "\n",
    "            for x in range(len(folders_info)):\n",
    "                folders.append(folders_info[x]['title']) #creates list of folder names for user\n",
    "\n",
    "            for i in range(len(folders)):\n",
    "                items = user.items(folder = folders[i])\n",
    "                #print('current folder: ' + folders[i])\n",
    "                for j in range(len(items)):\n",
    "                    #print(items[j])\n",
    "                    try:\n",
    "                        items[j].update(item_properties={'title': items[j].title + '_' + items[j].type})\n",
    "                        folder_name = u + '_' + folders[i] #new folder name = old folder name + user\n",
    "                        items[j].reassign_to(target_owner = 'GIS_Help_audubon', target_folder=folder_name) #reassigns item\n",
    "                    except:\n",
    "                        #when errors appear, check that user's items on AGOL to see if it needs to be manually moved\n",
    "                        #Most errors seem to be a glitch, but if item is in a shared update group\n",
    "                        #it will need to be moved by hand\n",
    "                        print('ERROR for user ' + user.username + ' in a folder.')\n",
    "                        print('    folder: ' + folders[i])\n",
    "                        print('    item: ' + items[j].title)\n",
    "                        continue\n",
    "\n",
    "            for k in range(len(all_items)):\n",
    "                #print(all_items[k])\n",
    "                try:\n",
    "                    all_items[k].update(item_properties={'title': all_items[k].title + '_' + all_items[k].type})\n",
    "                    folder_name = u + \"_home\" #new folder name\n",
    "                    all_items[k].reassign_to(target_owner = 'GIS_Help_audubon', target_folder=folder_name) #reassigns items\n",
    "                except:\n",
    "                    #Be sure to check errors as they appear (on AGOL)\n",
    "                    #Most are nothing, but if item is in a shared update group, needs to be moved by hand\n",
    "                    print('ERROR for user ' + user.username + ' in the home directory.')\n",
    "                    print('    item: ' + all_items[k].title)\n",
    "                    continue\n",
    "    if validation_variable == False:\n",
    "        print(\"Search did not successfully locate \" + u + \". Please manually transfer items.\")"
   ]
  },
  {
   "cell_type": "markdown",
   "id": "80bf3fd1",
   "metadata": {},
   "source": [
    "### REMOVING LICENSES"
   ]
  },
  {
   "cell_type": "code",
   "execution_count": null,
   "id": "ddf82821",
   "metadata": {},
   "outputs": [],
   "source": [
    "#find everyone with pro/extension licenses\n",
    "pro_license = gis.admin.license.get('ArcGIS Pro')\n",
    "all_license = pro_license.all()\n",
    "\n",
    "validation_variable = False\n",
    "#makes a list of all users in org with licenses\n",
    "licenseUsers = []\n",
    "for x in range(len(all_license)):\n",
    "    licenseUsers.append(all_license[x]['username'])\n",
    "    \n",
    "HasLicenseInList = set(username).intersection(licenseUsers) #finds the users that are in both the license list and the deletion list\n",
    "\n",
    "for u in HasLicenseInList:\n",
    "    gisusers = gis.users.search(u)\n",
    "    for p in range(len(gisusers)):\n",
    "        if gisusers[p].username == u:\n",
    "            validation_variable = True\n",
    "            user = gisusers[p]\n",
    "            pro_license.revoke(username=user.username, entitlements='*') #removes all licenses\n",
    "            #print('license has been removed for ' + user.username)\n",
    "\n",
    "    if validation_variable == False:\n",
    "        print(\"Search did not successfully locate \" + u + \". Please manually transfer items.\")"
   ]
  },
  {
   "cell_type": "code",
   "execution_count": null,
   "id": "379e7101",
   "metadata": {},
   "outputs": [],
   "source": [
    "pro_license = gis.admin.license.get('ArcGIS Pro')\n",
    "all_license = pro_license.all()\n",
    "\n",
    "licenseUsers = []\n",
    "for x in range(len(all_license)):\n",
    "    licenseUsers.append(all_license[x]['username'])"
   ]
  },
  {
   "cell_type": "code",
   "execution_count": null,
   "id": "19111915",
   "metadata": {},
   "outputs": [],
   "source": [
    "all_license"
   ]
  },
  {
   "cell_type": "code",
   "execution_count": null,
   "id": "97ce8a32",
   "metadata": {},
   "outputs": [],
   "source": [
    "all_advanced = []\n",
    "for x in range(len(all_license)):\n",
    "    all_advanced.append(all_license[x])"
   ]
  },
  {
   "cell_type": "code",
   "execution_count": null,
   "id": "95643b96",
   "metadata": {},
   "outputs": [],
   "source": [
    "all_advanced"
   ]
  },
  {
   "cell_type": "code",
   "execution_count": null,
   "id": "fa850be1",
   "metadata": {},
   "outputs": [],
   "source": [
    "for x in range(len(all_advanced)):\n",
    "    entitlements = all_advanced[x]['entitlements']\n",
    "    entitlements = [sub.replace('desktopBasicN','desktopAdvN') for sub in entitlements]\n",
    "    entitlements = [sub.replace('desktopStdN','desktopAdvN') for sub in entitlements]\n",
    "\n",
    "    all_advanced[x]['entitlements'] = entitlements"
   ]
  },
  {
   "cell_type": "code",
   "execution_count": null,
   "id": "9435cb48",
   "metadata": {},
   "outputs": [],
   "source": [
    "all_license"
   ]
  },
  {
   "cell_type": "code",
   "execution_count": null,
   "id": "3aaf98dc",
   "metadata": {},
   "outputs": [],
   "source": [
    "for x in range(len(licenseUsers)):\n",
    "    pro_license.revoke(username=licenseUsers[x], entitlements='*')"
   ]
  },
  {
   "cell_type": "code",
   "execution_count": null,
   "id": "a5da9c09",
   "metadata": {},
   "outputs": [],
   "source": [
    "for x in range(len(licenseUsers)):\n",
    "    pro_license.assign(username=licenseUsers[x],entitlements=all_advanced[x]['entitlements'])"
   ]
  },
  {
   "cell_type": "markdown",
   "id": "634f141f",
   "metadata": {},
   "source": [
    "### DELETING USERS"
   ]
  },
  {
   "cell_type": "code",
   "execution_count": null,
   "id": "bf9c2d62",
   "metadata": {},
   "outputs": [],
   "source": [
    "validation_variable = False\n",
    "for u in username:\n",
    "    gisusers = gis.users.search(u)\n",
    "    for p in range(len(gisusers)):\n",
    "        if gisusers[p].username == u:\n",
    "            try:\n",
    "                validation_variable = True\n",
    "                user = gisusers[p]\n",
    "                #print(user.username)\n",
    "                user.delete() #deletes user\n",
    "                print(user.username + \" has been deleted.\")\n",
    "            except:\n",
    "                print('ERROR deleting ' + user.username)\n",
    "                continue\n",
    "    if validation_variable == False:\n",
    "        print(\"Search did not successfully locate \" + u + \". Please manually delete user.\")"
   ]
  },
  {
   "cell_type": "markdown",
   "id": "797b4908",
   "metadata": {},
   "source": [
    "### Check that all users are gone"
   ]
  },
  {
   "cell_type": "code",
   "execution_count": null,
   "id": "a2c65789",
   "metadata": {},
   "outputs": [],
   "source": [
    "#runs through deletion list\n",
    "#prints username if still found in org, otherwise continues\n",
    "for u in username:\n",
    "    gisusers = gis.users.search(u)\n",
    "    for p in range(len(gisusers)):\n",
    "        try:\n",
    "            if gisusers[p].username == u:\n",
    "                print(u + ' still exists!')\n",
    "        except:\n",
    "            continue"
   ]
  },
  {
   "cell_type": "markdown",
   "id": "aa4d5edf",
   "metadata": {},
   "source": [
    "### Change Creators to Viewers"
   ]
  },
  {
   "cell_type": "code",
   "execution_count": null,
   "id": "99b45d45",
   "metadata": {},
   "outputs": [],
   "source": [
    "for u in username:\n",
    "    gisusers = gis.users.search(u)\n",
    "    for p in range(len(gisusers)):\n",
    "        try:\n",
    "            if gisusers[p].username == u:\n",
    "                gisusers[p].update_role(role = 'iAAAAAAAAAAAAAAA') #the code for a creator with a viewer role, must be updated before changing user type\n",
    "                gisusers[p].update_license_type(user_type='viewer')\n",
    "            if gisusers[p].level != '1':\n",
    "                print(\"error with \" + u + \". Please check their account.\")\n",
    "        except:\n",
    "            print(\"error with \" + u + \". Change by hand.\")\n",
    "            continue"
   ]
  },
  {
   "cell_type": "code",
   "execution_count": null,
   "id": "c7988d35",
   "metadata": {},
   "outputs": [],
   "source": [
    "gisuser = gis.users.search('estrell_audubon')\n",
    "gisuser[0].update_role(role = 'iAAAAAAAAAAAAAAA')"
   ]
  },
  {
   "cell_type": "code",
   "execution_count": null,
   "id": "28178dfd",
   "metadata": {},
   "outputs": [],
   "source": [
    "gisusers[0].update_license_type(user_type='viewer')"
   ]
  },
  {
   "cell_type": "code",
   "execution_count": null,
   "id": "89b5b1ba",
   "metadata": {},
   "outputs": [],
   "source": [
    "username"
   ]
  },
  {
   "cell_type": "code",
   "execution_count": null,
   "id": "4fabdd6a",
   "metadata": {},
   "outputs": [],
   "source": [
    "test_dict = {}"
   ]
  },
  {
   "cell_type": "code",
   "execution_count": null,
   "id": "3ae4773e",
   "metadata": {},
   "outputs": [],
   "source": [
    "test_dict.update({'b':'2'})"
   ]
  },
  {
   "cell_type": "code",
   "execution_count": null,
   "id": "ff983ebb",
   "metadata": {},
   "outputs": [],
   "source": [
    "test_dict"
   ]
  },
  {
   "cell_type": "code",
   "execution_count": null,
   "id": "5f7e3e98",
   "metadata": {},
   "outputs": [],
   "source": []
  }
 ],
 "metadata": {
  "kernelspec": {
   "display_name": "Python 3",
   "language": "python",
   "name": "python3"
  },
  "language_info": {
   "codemirror_mode": {
    "name": "ipython",
    "version": 3
   },
   "file_extension": ".py",
   "mimetype": "text/x-python",
   "name": "python",
   "nbconvert_exporter": "python",
   "pygments_lexer": "ipython3",
   "version": "3.8.8"
  }
 },
 "nbformat": 4,
 "nbformat_minor": 5
}

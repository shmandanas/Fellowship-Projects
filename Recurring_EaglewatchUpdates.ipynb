{
 "cells": [
  {
   "cell_type": "code",
   "execution_count": 1,
   "id": "8924c220",
   "metadata": {
    "execution": {
     "iopub.execute_input": "2022-03-23T04:55:10.360577Z",
     "iopub.status.busy": "2022-03-23T04:55:10.359772Z",
     "iopub.status.idle": "2022-03-23T04:55:18.775207Z",
     "shell.execute_reply": "2022-03-23T04:55:18.77555Z"
    },
    "papermill": {
     "duration": 8.433012,
     "end_time": "2022-03-23T04:55:18.775801",
     "exception": false,
     "start_time": "2022-03-23T04:55:10.342789",
     "status": "completed"
    },
    "tags": []
   },
   "outputs": [
    {
     "name": "stderr",
     "output_type": "stream",
     "text": [
      "/opt/conda/lib/python3.7/site-packages/arcgis/gis/__init__.py:575: UserWarning:\n",
      "\n",
      "You are logged on as smandanas_dangermond with an administrator role, proceed with caution.\n",
      "\n"
     ]
    }
   ],
   "source": [
    "from arcgis.gis import GIS\n",
    "gis = GIS('<ORGANIZATION>','<USERNAME>','<PASSWORD>')\n",
    "import pandas as pd\n",
    "import datetime\n",
    "import numpy as np\n",
    "from arcgis.features import FeatureLayer"
   ]
  },
  {
   "cell_type": "markdown",
   "id": "252f78ab",
   "metadata": {
    "papermill": {
     "duration": 0.010987,
     "end_time": "2022-03-23T04:55:18.799068",
     "exception": false,
     "start_time": "2022-03-23T04:55:18.788081",
     "status": "completed"
    },
    "tags": []
   },
   "source": [
    "## Generate list of EagleWatch users, import table, filter table to today's entries only"
   ]
  },
  {
   "cell_type": "code",
   "execution_count": 3,
   "id": "ab7546bb",
   "metadata": {
    "execution": {
     "iopub.execute_input": "2022-03-23T04:55:18.855079Z",
     "iopub.status.busy": "2022-03-23T04:55:18.852573Z",
     "iopub.status.idle": "2022-03-23T04:55:19.745365Z",
     "shell.execute_reply": "2022-03-23T04:55:19.745727Z"
    },
    "papermill": {
     "duration": 0.906509,
     "end_time": "2022-03-23T04:55:19.745872",
     "exception": false,
     "start_time": "2022-03-23T04:55:18.839363",
     "status": "completed"
    },
    "tags": []
   },
   "outputs": [],
   "source": [
    "#import hosted table with user information\n",
    "intake_url = '<User info table service URL>'\n",
    "intake = FeatureLayer(intake_url,gis)\n",
    "intake = intake.query(where='OBJECTID<10000')\n",
    "intake_table = intake.sdf"
   ]
  },
  {
   "cell_type": "code",
   "execution_count": 4,
   "id": "0f039da0",
   "metadata": {
    "execution": {
     "iopub.execute_input": "2022-03-23T04:55:19.806284Z",
     "iopub.status.busy": "2022-03-23T04:55:19.799939Z",
     "iopub.status.idle": "2022-03-23T04:55:19.808331Z",
     "shell.execute_reply": "2022-03-23T04:55:19.807897Z"
    },
    "papermill": {
     "duration": 0.050261,
     "end_time": "2022-03-23T04:55:19.808432",
     "exception": false,
     "start_time": "2022-03-23T04:55:19.758171",
     "status": "completed"
    },
    "tags": []
   },
   "outputs": [],
   "source": [
    "#create dictionaries to identify users based on emails or AGOL usernames\n",
    "emails = dict(zip(intake_table.email_address,intake_table.first_name+' '+intake_table.last_name))\n",
    "usernames = dict(zip(intake_table.UserAGOL_1,intake_table.first_name+' '+intake_table.last_name))"
   ]
  },
  {
   "cell_type": "code",
   "execution_count": 5,
   "id": "329ffdb5",
   "metadata": {
    "execution": {
     "iopub.execute_input": "2022-03-23T04:55:19.8334Z",
     "iopub.status.busy": "2022-03-23T04:55:19.832818Z",
     "iopub.status.idle": "2022-03-23T04:55:19.835466Z",
     "shell.execute_reply": "2022-03-23T04:55:19.835135Z"
    },
    "papermill": {
     "duration": 0.016209,
     "end_time": "2022-03-23T04:55:19.835564",
     "exception": false,
     "start_time": "2022-03-23T04:55:19.819355",
     "status": "completed"
    },
    "tags": []
   },
   "outputs": [],
   "source": [
    "#import table to be updated\n",
    "data_url = '<Table to update service URL>'\n",
    "layer = FeatureLayer(data_url)\n",
    "#layer.properties.fields"
   ]
  },
  {
   "cell_type": "code",
   "execution_count": 7,
   "id": "aa9e9695",
   "metadata": {
    "execution": {
     "iopub.execute_input": "2022-03-23T04:55:19.889277Z",
     "iopub.status.busy": "2022-03-23T04:55:19.888822Z",
     "iopub.status.idle": "2022-03-23T04:55:24.422325Z",
     "shell.execute_reply": "2022-03-23T04:55:24.421442Z"
    },
    "papermill": {
     "duration": 4.548315,
     "end_time": "2022-03-23T04:55:24.422447",
     "exception": false,
     "start_time": "2022-03-23T04:55:19.874132",
     "status": "completed"
    },
    "tags": []
   },
   "outputs": [],
   "source": [
    "#add table as dataframe\n",
    "query = layer.query(where='OBJECTID<1000000')\n",
    "dataframe = query.sdf"
   ]
  },
  {
   "cell_type": "code",
   "execution_count": 6,
   "id": "60a9313a",
   "metadata": {
    "execution": {
     "iopub.execute_input": "2022-03-23T04:55:19.861122Z",
     "iopub.status.busy": "2022-03-23T04:55:19.859639Z",
     "iopub.status.idle": "2022-03-23T04:55:19.863148Z",
     "shell.execute_reply": "2022-03-23T04:55:19.862723Z"
    },
    "papermill": {
     "duration": 0.016733,
     "end_time": "2022-03-23T04:55:19.863245",
     "exception": false,
     "start_time": "2022-03-23T04:55:19.846512",
     "status": "completed"
    },
    "tags": []
   },
   "outputs": [],
   "source": [
    "#Create the time window to go back and update names\n",
    "#This notebook runs once daily, so the time window is one day\n",
    "now_UTC = datetime.date.today()\n",
    "now = now_UTC - datetime.timedelta(days = 1)"
   ]
  },
  {
   "cell_type": "code",
   "execution_count": 8,
   "id": "210989f9",
   "metadata": {
    "execution": {
     "iopub.execute_input": "2022-03-23T04:55:24.461984Z",
     "iopub.status.busy": "2022-03-23T04:55:24.456204Z",
     "iopub.status.idle": "2022-03-23T04:55:24.488851Z",
     "shell.execute_reply": "2022-03-23T04:55:24.488425Z"
    },
    "papermill": {
     "duration": 0.05481,
     "end_time": "2022-03-23T04:55:24.488962",
     "exception": false,
     "start_time": "2022-03-23T04:55:24.434152",
     "status": "completed"
    },
    "tags": []
   },
   "outputs": [],
   "source": [
    "#filter the table to only include entries from the past day\n",
    "dataframe['CreationDate_2'] = pd.to_datetime(dataframe['CreationDate_2']).dt.date\n",
    "dataframe = dataframe[dataframe['CreationDate_2'] >= now]"
   ]
  },
  {
   "cell_type": "code",
   "execution_count": 9,
   "id": "7369709e",
   "metadata": {
    "execution": {
     "iopub.execute_input": "2022-03-23T04:55:24.518502Z",
     "iopub.status.busy": "2022-03-23T04:55:24.517925Z",
     "iopub.status.idle": "2022-03-23T04:55:24.520803Z",
     "shell.execute_reply": "2022-03-23T04:55:24.520379Z"
    },
    "papermill": {
     "duration": 0.020552,
     "end_time": "2022-03-23T04:55:24.520903",
     "exception": false,
     "start_time": "2022-03-23T04:55:24.500351",
     "status": "completed"
    },
    "tags": []
   },
   "outputs": [
    {
     "data": {
      "text/plain": [
       "119"
      ]
     },
     "execution_count": 9,
     "metadata": {},
     "output_type": "execute_result"
    }
   ],
   "source": [
    "len(dataframe)"
   ]
  },
  {
   "cell_type": "markdown",
   "id": "5229b264",
   "metadata": {
    "papermill": {
     "duration": 0.011509,
     "end_time": "2022-03-23T04:55:24.543884",
     "exception": false,
     "start_time": "2022-03-23T04:55:24.532375",
     "status": "completed"
    },
    "tags": []
   },
   "source": [
    "## Update the Data"
   ]
  },
  {
   "cell_type": "code",
   "execution_count": 11,
   "id": "8d8a7cb5",
   "metadata": {
    "execution": {
     "iopub.execute_input": "2022-03-23T04:55:24.601939Z",
     "iopub.status.busy": "2022-03-23T04:55:24.601402Z",
     "iopub.status.idle": "2022-03-23T04:55:24.603559Z",
     "shell.execute_reply": "2022-03-23T04:55:24.603207Z"
    },
    "papermill": {
     "duration": 0.020089,
     "end_time": "2022-03-23T04:55:24.603649",
     "exception": false,
     "start_time": "2022-03-23T04:55:24.58356",
     "status": "completed"
    },
    "tags": []
   },
   "outputs": [],
   "source": [
    "#remove any spaces present in the email field\n",
    "#create a temporary Survey_By column and \n",
    "dataframe['vol_email'] = dataframe['vol_email'].str.replace(' ','')\n",
    "dataframe['Survey_By'] = np.where(dataframe['Creator_2']!='vol_eaglewatch',dataframe['Creator_2'].map(usernames),dataframe['vol_email'].map(emails))"
   ]
  },
  {
   "cell_type": "markdown",
   "id": "91eb9b3b",
   "metadata": {
    "papermill": {
     "duration": 0.011345,
     "end_time": "2022-03-23T04:55:24.626439",
     "exception": false,
     "start_time": "2022-03-23T04:55:24.615094",
     "status": "completed"
    },
    "tags": []
   },
   "source": [
    "## Format and publish data back to AGOL"
   ]
  },
  {
   "cell_type": "code",
   "execution_count": 12,
   "id": "be639f4b",
   "metadata": {
    "execution": {
     "iopub.execute_input": "2022-03-23T04:55:24.655711Z",
     "iopub.status.busy": "2022-03-23T04:55:24.655118Z",
     "iopub.status.idle": "2022-03-23T04:55:24.657243Z",
     "shell.execute_reply": "2022-03-23T04:55:24.656888Z"
    },
    "papermill": {
     "duration": 0.01746,
     "end_time": "2022-03-23T04:55:24.657337",
     "exception": false,
     "start_time": "2022-03-23T04:55:24.639877",
     "status": "completed"
    },
    "tags": []
   },
   "outputs": [],
   "source": [
    "#Replace official 'SurvBy' column with the temporary column for corrected data 'Survey_By'\n",
    "dataframe['SurvBy'] = dataframe['Survey_By']"
   ]
  },
  {
   "cell_type": "code",
   "execution_count": 13,
   "id": "baf6ced7",
   "metadata": {
    "execution": {
     "iopub.execute_input": "2022-03-23T04:55:24.685375Z",
     "iopub.status.busy": "2022-03-23T04:55:24.684692Z",
     "iopub.status.idle": "2022-03-23T04:55:24.687386Z",
     "shell.execute_reply": "2022-03-23T04:55:24.687728Z"
    },
    "papermill": {
     "duration": 0.019053,
     "end_time": "2022-03-23T04:55:24.687836",
     "exception": false,
     "start_time": "2022-03-23T04:55:24.668783",
     "status": "completed"
    },
    "tags": []
   },
   "outputs": [],
   "source": [
    "#Delete all columns from the table that we don't need to update the data\n",
    "dataframe.drop(columns=['NestID', 'SubstrateTy', 'Disturbance', 'Occupied',\n",
    "       'Active', 'Successful', 'Monitored', 'VolHours', 'Notes',\n",
    "       'vol_email', 'AdultsSeen', 'GlobalID', 'CreationDate', 'Creator',\n",
    "       'EditDate', 'Editor', 'Season', 'VisitDate', 'Approved', 'noteSurv',\n",
    "       'emailAGOL', 'userAGOL', 'Moved', 'Status', 'subs_change', 'A_banded',\n",
    "       'band_color', 'A_behave', 'EagletBehav', 'EagletsSeen', 'Fledged',\n",
    "       'Perished', 'CreationDate_1', 'Creator_1', 'EditDate_1', 'Editor_1',\n",
    "       'CreationDate_2', 'Creator_2', 'EditDate_2', 'Editor_2', 'Verification',\n",
    "       'Survey_By'],inplace=True)"
   ]
  },
  {
   "cell_type": "code",
   "execution_count": 14,
   "id": "02e7e733",
   "metadata": {
    "execution": {
     "iopub.execute_input": "2022-03-23T04:55:24.715375Z",
     "iopub.status.busy": "2022-03-23T04:55:24.714714Z",
     "iopub.status.idle": "2022-03-23T04:55:24.721671Z",
     "shell.execute_reply": "2022-03-23T04:55:24.722003Z"
    },
    "papermill": {
     "duration": 0.02182,
     "end_time": "2022-03-23T04:55:24.722115",
     "exception": false,
     "start_time": "2022-03-23T04:55:24.700295",
     "status": "completed"
    },
    "tags": []
   },
   "outputs": [],
   "source": [
    "#Convert dataframe to featureset\n",
    "fs = dataframe.spatial.to_featureset().value"
   ]
  },
  {
   "cell_type": "code",
   "execution_count": 15,
   "id": "e54fcd38",
   "metadata": {
    "execution": {
     "iopub.execute_input": "2022-03-23T04:55:24.748995Z",
     "iopub.status.busy": "2022-03-23T04:55:24.748505Z",
     "iopub.status.idle": "2022-03-23T04:55:24.750299Z",
     "shell.execute_reply": "2022-03-23T04:55:24.750595Z"
    },
    "papermill": {
     "duration": 0.017129,
     "end_time": "2022-03-23T04:55:24.75072",
     "exception": false,
     "start_time": "2022-03-23T04:55:24.733591",
     "status": "completed"
    },
    "tags": []
   },
   "outputs": [],
   "source": [
    "#break updates into chunks to reduce possibility of breaking\n",
    "def chunk_it(l, n):\n",
    "    return [l[i:i+n] for i in range(0, len(l), n)]\n",
    "\n",
    "chunk_size = 50\n",
    "chunks = chunk_it(fs['features'],chunk_size)"
   ]
  },
  {
   "cell_type": "code",
   "execution_count": 16,
   "id": "e1942c26",
   "metadata": {
    "execution": {
     "iopub.execute_input": "2022-03-23T04:55:24.778921Z",
     "iopub.status.busy": "2022-03-23T04:55:24.778498Z",
     "iopub.status.idle": "2022-03-23T04:55:25.71645Z",
     "shell.execute_reply": "2022-03-23T04:55:25.716778Z"
    },
    "papermill": {
     "duration": 0.954642,
     "end_time": "2022-03-23T04:55:25.716922",
     "exception": false,
     "start_time": "2022-03-23T04:55:24.76228",
     "status": "completed"
    },
    "tags": []
   },
   "outputs": [
    {
     "name": "stdout",
     "output_type": "stream",
     "text": [
      "1\n",
      "1\n",
      "1\n"
     ]
    }
   ],
   "source": [
    "#update each chunk\n",
    "count = 1\n",
    "for chunk in chunks:\n",
    "    try:\n",
    "        layer.edit_features(updates=chunk)\n",
    "        print(count)\n",
    "        #count += 1\n",
    "    except Exception as e:\n",
    "        raise ValueError(f'error adding chunk ::{e}')"
   ]
  },
  {
   "cell_type": "code",
   "execution_count": null,
   "id": "58e1eb78",
   "metadata": {
    "papermill": {
     "duration": 0.011986,
     "end_time": "2022-03-23T04:55:25.740901",
     "exception": false,
     "start_time": "2022-03-23T04:55:25.728915",
     "status": "completed"
    },
    "tags": []
   },
   "outputs": [],
   "source": []
  }
 ],
 "metadata": {
  "esriNotebookRuntime": {
   "notebookRuntimeName": "ArcGIS Notebook Python 3 Standard",
   "notebookRuntimeVersion": "6.0"
  },
  "kernelspec": {
   "display_name": "Python 3",
   "language": "python",
   "name": "python3"
  },
  "language_info": {
   "codemirror_mode": {
    "name": "ipython",
    "version": 3
   },
   "file_extension": ".py",
   "mimetype": "text/x-python",
   "name": "python",
   "nbconvert_exporter": "python",
   "pygments_lexer": "ipython3",
   "version": "3.8.8"
  },
  "papermill": {
   "default_parameters": {},
   "duration": 22.213042,
   "end_time": "2022-03-23T04:55:31.681682",
   "environment_variables": {},
   "exception": null,
   "input_path": "/arcgis/home/.tasks/bbd9b352708e4b688ec8f55edd8dab23/e798df6b3b514a799124dec3478ffd37.ipynb",
   "output_path": "/arcgis/home/.tasks/bbd9b352708e4b688ec8f55edd8dab23/output.ipynb",
   "parameters": {},
   "start_time": "2022-03-23T04:55:09.46864",
   "version": "2.3.3"
  }
 },
 "nbformat": 4,
 "nbformat_minor": 5
}

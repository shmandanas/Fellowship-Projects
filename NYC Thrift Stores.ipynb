{
 "cells": [
  {
   "cell_type": "code",
   "execution_count": 11,
   "id": "0909a17e",
   "metadata": {},
   "outputs": [],
   "source": [
    "import requests\n",
    "import pandas as pd"
   ]
  },
  {
   "cell_type": "code",
   "execution_count": 2,
   "id": "9cab5377",
   "metadata": {},
   "outputs": [],
   "source": [
    "myKey = 'cIlJQe0GB1h7BcMaYlF8KE3OMqQllV9fqYkWJOYQ6DeHAiwzxhOz09Df16BAB-9zGyvq9uBgRcSh5aucdhd5-wX7ZQFZ-k-HZLwMazsMS16QweG3uINp25AFMDXXYXYx'"
   ]
  },
  {
   "cell_type": "code",
   "execution_count": 43,
   "id": "2914fdcd",
   "metadata": {},
   "outputs": [],
   "source": [
    "nyc = ['New York, New York','Queens, New York', 'Brooklyn, New York','Bronx, New York','Staten Island, New York']\n",
    "headers = {'Authorization':'Bearer {}'.format(myKey)}\n",
    "search_api_url = 'https://api.yelp.com/v3/businesses/search'\n",
    "\n",
    "for n in nyc:\n",
    "    params = {'location':n,'term':'Thrift Stores','limit':50,'sort_by':'distance'}\n",
    "    response = requests.get(search_api_url, headers=headers, params=params, timeout=10)\n",
    "    data_dict = response.json()\n",
    "    new_spots = pd.DataFrame.from_dict(data_dict['businesses'])\n",
    "    nyny = nyny.append(new_spots)"
   ]
  },
  {
   "cell_type": "code",
   "execution_count": 45,
   "id": "0dadd991",
   "metadata": {},
   "outputs": [],
   "source": [
    "nyny[['lat','long']] = nyny.coordinates.apply(pd.Series)\n",
    "nyny = nyny.drop('coordinates',axis=1)\n",
    "nyny = nyny.reset_index()\n",
    "nyny.loc[0,'location']"
   ]
  },
  {
   "cell_type": "code",
   "execution_count": 56,
   "id": "d7f7b8cc",
   "metadata": {},
   "outputs": [],
   "source": [
    "nyny[['address1','address2','address3','city','zip code','country','state','display address']] = nyny.location.apply(pd.Series)\n",
    "nyny = nyny.drop('location',axis=1)"
   ]
  },
  {
   "cell_type": "code",
   "execution_count": 65,
   "id": "dd450ca4",
   "metadata": {},
   "outputs": [],
   "source": [
    "nyny.to_excel(\"nyc_thriftstores.xlsx\")"
   ]
  }
 ],
 "metadata": {
  "kernelspec": {
   "display_name": "Python 3",
   "language": "python",
   "name": "python3"
  },
  "language_info": {
   "codemirror_mode": {
    "name": "ipython",
    "version": 3
   },
   "file_extension": ".py",
   "mimetype": "text/x-python",
   "name": "python",
   "nbconvert_exporter": "python",
   "pygments_lexer": "ipython3",
   "version": "3.8.8"
  }
 },
 "nbformat": 4,
 "nbformat_minor": 5
}
